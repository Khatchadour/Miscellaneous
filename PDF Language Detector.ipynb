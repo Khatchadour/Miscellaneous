{
 "cells": [
  {
   "cell_type": "code",
   "execution_count": 2,
   "id": "cedc0f11",
   "metadata": {},
   "outputs": [
    {
     "name": "stdout",
     "output_type": "stream",
     "text": [
      "Requirement already satisfied: langdetect in /Users/bigk/opt/anaconda3/envs/test_thesis/lib/python3.9/site-packages (1.0.9)\n",
      "Requirement already satisfied: six in /Users/bigk/opt/anaconda3/envs/test_thesis/lib/python3.9/site-packages (from langdetect) (1.16.0)\n",
      "Collecting PyPDF2\n",
      "  Downloading pypdf2-3.0.1-py3-none-any.whl (232 kB)\n",
      "\u001b[2K     \u001b[90m━━━━━━━━━━━━━━━━━━━━━━━━━━━━━━━━━━━━━\u001b[0m \u001b[32m232.6/232.6 kB\u001b[0m \u001b[31m778.1 kB/s\u001b[0m eta \u001b[36m0:00:00\u001b[0ma \u001b[36m0:00:01\u001b[0m\n",
      "\u001b[?25hRequirement already satisfied: typing_extensions>=3.10.0.0 in /Users/bigk/opt/anaconda3/envs/test_thesis/lib/python3.9/site-packages (from PyPDF2) (4.4.0)\n",
      "Installing collected packages: PyPDF2\n",
      "Successfully installed PyPDF2-3.0.1\n"
     ]
    }
   ],
   "source": [
    "#import sys\n",
    "#!{sys.executable} -m pip install langdetect\n",
    "#!{sys.executable} -m pip install PyPDF2"
   ]
  },
  {
   "cell_type": "code",
   "execution_count": 3,
   "id": "09e70a58",
   "metadata": {},
   "outputs": [],
   "source": [
    "import PyPDF2\n",
    "from langdetect import detect\n",
    "from langdetect.detector_factory import detect_langs"
   ]
  },
  {
   "cell_type": "code",
   "execution_count": 15,
   "id": "8d734f9f",
   "metadata": {},
   "outputs": [],
   "source": [
    "def detect_pdf_language(file_path):\n",
    "    with open(file_path, 'rb') as f:\n",
    "        # Create a PDF object\n",
    "        pdf_reader = PyPDF2.PdfReader(f)\n",
    "\n",
    "        # Get the total number of pages in the PDF document\n",
    "        num_pages = len(pdf_reader.pages)\n",
    "\n",
    "        # Initialize an empty string to store the text from the PDF document\n",
    "        pdf_text = \"\"\n",
    "\n",
    "        # Loop through each page of the PDF document and extract the text\n",
    "        for page_num in range(num_pages):\n",
    "            page_obj = pdf_reader.pages[page_num]\n",
    "            pdf_text += page_obj.extract_text()\n",
    "\n",
    "        # Detect the language of the text using the langdetect library\n",
    "        language = detect(pdf_text)\n",
    "        \n",
    "        # Print the probabilities of the languages in case there are multiple languages on the document\n",
    "        print(\"Probabilities of the languages: \", detect_langs(pdf_text))\n",
    "\n",
    "        return language"
   ]
  },
  {
   "cell_type": "code",
   "execution_count": 16,
   "id": "368b8452",
   "metadata": {},
   "outputs": [
    {
     "name": "stdout",
     "output_type": "stream",
     "text": [
      "Can you give me the full path to the PDF file, please? Don't use quotation marks! /Users/bigk/Downloads/policies/inschrijving.pdf\n",
      "Probabilities of the languages:  [nl:0.9999947400890226]\n"
     ]
    },
    {
     "data": {
      "text/plain": [
       "'nl'"
      ]
     },
     "execution_count": 16,
     "metadata": {},
     "output_type": "execute_result"
    }
   ],
   "source": [
    "# Call the function by giving the complete path to the PDF file\n",
    "detect_pdf_language(input(\"Can you give me the full path to the PDF file, please? Don't use quotation marks! \"))"
   ]
  },
  {
   "cell_type": "code",
   "execution_count": null,
   "id": "e02b30bd",
   "metadata": {},
   "outputs": [],
   "source": []
  }
 ],
 "metadata": {
  "kernelspec": {
   "display_name": "Python 3 (ipykernel)",
   "language": "python",
   "name": "python3"
  },
  "language_info": {
   "codemirror_mode": {
    "name": "ipython",
    "version": 3
   },
   "file_extension": ".py",
   "mimetype": "text/x-python",
   "name": "python",
   "nbconvert_exporter": "python",
   "pygments_lexer": "ipython3",
   "version": "3.9.16"
  }
 },
 "nbformat": 4,
 "nbformat_minor": 5
}
